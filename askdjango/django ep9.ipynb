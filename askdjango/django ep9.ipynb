{
 "cells": [
  {
   "cell_type": "code",
   "execution_count": 1,
   "metadata": {},
   "outputs": [
    {
     "data": {
      "text/plain": [
       "blog.models.Post"
      ]
     },
     "execution_count": 1,
     "metadata": {},
     "output_type": "execute_result"
    }
   ],
   "source": [
    "Post"
   ]
  },
  {
   "cell_type": "code",
   "execution_count": 2,
   "metadata": {},
   "outputs": [
    {
     "data": {
      "text/plain": [
       "<django.db.models.manager.Manager at 0x10e9b92b0>"
      ]
     },
     "execution_count": 2,
     "metadata": {},
     "output_type": "execute_result"
    }
   ],
   "source": [
    "Post.objects"
   ]
  },
  {
   "cell_type": "code",
   "execution_count": 6,
   "metadata": {},
   "outputs": [
    {
     "data": {
      "text/plain": [
       "<QuerySet [<Post: Post object>, <Post: Post object>, <Post: Post object>]>"
      ]
     },
     "execution_count": 6,
     "metadata": {},
     "output_type": "execute_result"
    }
   ],
   "source": [
    "Post.objects.all().order_by('-id')[:10]"
   ]
  },
  {
   "cell_type": "code",
   "execution_count": 7,
   "metadata": {},
   "outputs": [
    {
     "data": {
      "text/plain": [
       "{'sql': 'SELECT \"blog_post\".\"id\", \"blog_post\".\"author\", \"blog_post\".\"title\", \"blog_post\".\"content\", \"blog_post\".\"tags\", \"blog_post\".\"lnglat\", \"blog_post\".\"status\", \"blog_post\".\"created_at\", \"blog_post\".\"updated_at\" FROM \"blog_post\" ORDER BY \"blog_post\".\"id\" DESC LIMIT 10',\n",
       " 'time': '0.001'}"
      ]
     },
     "execution_count": 7,
     "metadata": {},
     "output_type": "execute_result"
    }
   ],
   "source": [
    "from django.db import connection\n",
    "connection.queries[-1]"
   ]
  },
  {
   "cell_type": "code",
   "execution_count": 13,
   "metadata": {},
   "outputs": [
    {
     "data": {
      "text/plain": [
       "<Post: Post object>"
      ]
     },
     "execution_count": 13,
     "metadata": {},
     "output_type": "execute_result"
    }
   ],
   "source": [
    "Post.objects.create(title='테스트 제목', content='테스트 내용', status='d')"
   ]
  },
  {
   "cell_type": "code",
   "execution_count": 3,
   "metadata": {},
   "outputs": [
    {
     "data": {
      "text/plain": [
       "<QuerySet [<Post: 테스트 제목>]>"
      ]
     },
     "execution_count": 3,
     "metadata": {},
     "output_type": "execute_result"
    }
   ],
   "source": [
    "Post.objects.all().filter(title__icontains='테스트')"
   ]
  },
  {
   "cell_type": "code",
   "execution_count": 4,
   "metadata": {},
   "outputs": [
    {
     "name": "stdout",
     "output_type": "stream",
     "text": [
      "삼성 vs 애플, 하반기 프리미엄폰 경쟁 서막\n",
      "태풍 ‘솔릭’ 영향, 한국형발사체 실내로 옮겨져…\"발사일정엔 영향 없어\"\n",
      "지니뮤직,'보는 음악'으로 멜론 잡겠다..KT, LGU+, CJENM 맞손\n",
      "테스트 제목\n"
     ]
    }
   ],
   "source": [
    "for post in Post.objects.all():\n",
    "    print(post)"
   ]
  },
  {
   "cell_type": "code",
   "execution_count": 5,
   "metadata": {},
   "outputs": [],
   "source": [
    "import random\n",
    "\n",
    "for i in range(1000):\n",
    "    status = random.choice(['d','p','w'])\n",
    "    Post.objects.create(author='김문규', title='제목 #{}'.format(i), content='테스트 내용',\n",
    "                        status=status)"
   ]
  },
  {
   "cell_type": "code",
   "execution_count": 6,
   "metadata": {},
   "outputs": [
    {
     "data": {
      "text/plain": [
       "1004"
      ]
     },
     "execution_count": 6,
     "metadata": {},
     "output_type": "execute_result"
    }
   ],
   "source": [
    "Post.objects.all().count()"
   ]
  },
  {
   "cell_type": "code",
   "execution_count": 8,
   "metadata": {},
   "outputs": [
    {
     "data": {
      "text/plain": [
       "<QuerySet [<Post: 제목 #13>, <Post: 제목 #103>, <Post: 제목 #113>, <Post: 제목 #123>, <Post: 제목 #133>, <Post: 제목 #143>, <Post: 제목 #153>, <Post: 제목 #163>, <Post: 제목 #173>, <Post: 제목 #183>, <Post: 제목 #193>, <Post: 제목 #213>, <Post: 제목 #313>, <Post: 제목 #413>, <Post: 제목 #513>, <Post: 제목 #613>, <Post: 제목 #713>, <Post: 제목 #813>, <Post: 제목 #913>]>"
      ]
     },
     "execution_count": 8,
     "metadata": {},
     "output_type": "execute_result"
    }
   ],
   "source": [
    "Post.objects.filter(title__icontains='1', title__endswith='3')"
   ]
  },
  {
   "cell_type": "code",
   "execution_count": 10,
   "metadata": {},
   "outputs": [
    {
     "data": {
      "text/plain": [
       "<QuerySet [<Post: 제목 #1>, <Post: 제목 #10>, <Post: 제목 #11>, <Post: 제목 #12>, <Post: 제목 #14>, <Post: 제목 #15>, <Post: 제목 #16>, <Post: 제목 #17>, <Post: 제목 #18>, <Post: 제목 #19>, <Post: 제목 #21>, <Post: 제목 #31>, <Post: 제목 #41>, <Post: 제목 #51>, <Post: 제목 #61>, <Post: 제목 #71>, <Post: 제목 #81>, <Post: 제목 #91>, <Post: 제목 #100>, <Post: 제목 #101>, '...(remaining elements truncated)...']>"
      ]
     },
     "execution_count": 10,
     "metadata": {},
     "output_type": "execute_result"
    }
   ],
   "source": [
    "Post.objects.filter(title__icontains='1').exclude(title__endswith='3')"
   ]
  },
  {
   "cell_type": "code",
   "execution_count": 11,
   "metadata": {},
   "outputs": [],
   "source": [
    "from django.db.models import Q"
   ]
  },
  {
   "cell_type": "code",
   "execution_count": 12,
   "metadata": {},
   "outputs": [
    {
     "data": {
      "text/plain": [
       "<QuerySet [<Post: 제목 #1>, <Post: 제목 #3>, <Post: 제목 #10>, <Post: 제목 #11>, <Post: 제목 #12>, <Post: 제목 #13>, <Post: 제목 #14>, <Post: 제목 #15>, <Post: 제목 #16>, <Post: 제목 #17>, <Post: 제목 #18>, <Post: 제목 #19>, <Post: 제목 #21>, <Post: 제목 #23>, <Post: 제목 #31>, <Post: 제목 #33>, <Post: 제목 #41>, <Post: 제목 #43>, <Post: 제목 #51>, <Post: 제목 #53>, '...(remaining elements truncated)...']>"
      ]
     },
     "execution_count": 12,
     "metadata": {},
     "output_type": "execute_result"
    }
   ],
   "source": [
    "Post.objects.filter( Q(title__icontains='1') | Q(title__endswith='3') )"
   ]
  },
  {
   "cell_type": "code",
   "execution_count": null,
   "metadata": {},
   "outputs": [],
   "source": []
  },
  {
   "cell_type": "code",
   "execution_count": 13,
   "metadata": {},
   "outputs": [],
   "source": [
    "# 슬라이싱"
   ]
  },
  {
   "cell_type": "code",
   "execution_count": 14,
   "metadata": {},
   "outputs": [],
   "source": [
    "myumbers =list(range(100))"
   ]
  },
  {
   "cell_type": "code",
   "execution_count": 17,
   "metadata": {},
   "outputs": [
    {
     "data": {
      "text/plain": [
       "[1, 3, 5, 7, 9]"
      ]
     },
     "execution_count": 17,
     "metadata": {},
     "output_type": "execute_result"
    }
   ],
   "source": [
    "myumbers[1:10:2]"
   ]
  },
  {
   "cell_type": "markdown",
   "metadata": {},
   "source": []
  },
  {
   "cell_type": "code",
   "execution_count": 18,
   "metadata": {},
   "outputs": [
    {
     "data": {
      "text/plain": [
       "[10, 8, 6, 4, 2]"
      ]
     },
     "execution_count": 18,
     "metadata": {},
     "output_type": "execute_result"
    }
   ],
   "source": [
    "myumbers[10:1:-2]"
   ]
  },
  {
   "cell_type": "code",
   "execution_count": null,
   "metadata": {},
   "outputs": [],
   "source": []
  }
 ],
 "metadata": {
  "kernelspec": {
   "display_name": "Django Shell-Plus",
   "language": "python",
   "name": "django_extensions"
  },
  "language_info": {
   "codemirror_mode": {
    "name": "ipython",
    "version": 3
   },
   "file_extension": ".py",
   "mimetype": "text/x-python",
   "name": "python",
   "nbconvert_exporter": "python",
   "pygments_lexer": "ipython3",
   "version": "3.6.5"
  }
 },
 "nbformat": 4,
 "nbformat_minor": 2
}
